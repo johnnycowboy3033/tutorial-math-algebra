{
 "cells": [
  {
   "cell_type": "code",
   "execution_count": 2,
   "id": "dcd71c57",
   "metadata": {},
   "outputs": [],
   "source": [
    "import sympy as sp\n",
    "sp.init_printing()\n",
    "from sympy import *"
   ]
  },
  {
   "cell_type": "markdown",
   "id": "bcc8fe4c",
   "metadata": {},
   "source": [
    "# Question 1"
   ]
  },
  {
   "cell_type": "markdown",
   "id": "d4acc558",
   "metadata": {},
   "source": [
    "Evaluate the expression if a = 3 and b = -6.       \n",
    "a+b"
   ]
  },
  {
   "cell_type": "code",
   "execution_count": 3,
   "id": "d3bae956",
   "metadata": {},
   "outputs": [],
   "source": [
    "a,b = symbols(\"a,b\")"
   ]
  },
  {
   "cell_type": "code",
   "execution_count": 4,
   "id": "187b0ed4",
   "metadata": {},
   "outputs": [],
   "source": [
    "a = 3\n",
    "b = -6"
   ]
  },
  {
   "cell_type": "code",
   "execution_count": 5,
   "id": "95c7473b",
   "metadata": {},
   "outputs": [
    {
     "data": {
      "image/png": "[encoded data removed]",
      "text/latex": [
       "$\\displaystyle -3$"
      ],
      "text/plain": [
       "-3"
      ]
     },
     "execution_count": 5,
     "metadata": {},
     "output_type": "execute_result"
    }
   ],
   "source": [
    "a + b"
   ]
  },
  {
   "cell_type": "markdown",
   "id": "a9a5fc25",
   "metadata": {},
   "source": [
    "# Question 2"
   ]
  },
  {
   "cell_type": "markdown",
   "id": "6aeae6d0",
   "metadata": {},
   "source": [
    "Evaluate the expression if x = -1, y = 2, and z = -3"
   ]
  },
  {
   "cell_type": "markdown",
   "id": "1fdcf9da",
   "metadata": {},
   "source": [
    "$$ xy + y^2 + xyz $$"
   ]
  },
  {
   "cell_type": "code",
   "execution_count": 6,
   "id": "a9782aaf",
   "metadata": {},
   "outputs": [],
   "source": [
    "x,y,z = symbols(\"x,y,z\")"
   ]
  },
  {
   "cell_type": "code",
   "execution_count": 7,
   "id": "6a697900",
   "metadata": {},
   "outputs": [],
   "source": [
    "x = -1 \n",
    "y = 2\n",
    "z = -3"
   ]
  },
  {
   "cell_type": "code",
   "execution_count": 8,
   "id": "665c5dd2",
   "metadata": {},
   "outputs": [
    {
     "data": {
      "image/png": "[encoded data removed]",
      "text/latex": [
       "$\\displaystyle 8$"
      ],
      "text/plain": [
       "8"
      ]
     },
     "execution_count": 8,
     "metadata": {},
     "output_type": "execute_result"
    }
   ],
   "source": [
    "x*y + y**2 + x*y*z"
   ]
  },
  {
   "cell_type": "markdown",
   "id": "3a35a303",
   "metadata": {},
   "source": [
    "# Question 3 "
   ]
  },
  {
   "cell_type": "markdown",
   "id": "bac526e2",
   "metadata": {},
   "source": [
    "Use a = -2 and b = 3 to evaluate the expression"
   ]
  },
  {
   "cell_type": "markdown",
   "id": "3cd2f24e",
   "metadata": {},
   "source": [
    "$$  ab^2 -b(a-b) +a $$"
   ]
  },
  {
   "cell_type": "code",
   "execution_count": 9,
   "id": "46d3d6e6",
   "metadata": {},
   "outputs": [],
   "source": [
    "a,b = symbols(\"a,b\")"
   ]
  },
  {
   "cell_type": "code",
   "execution_count": 10,
   "id": "cf8252ed",
   "metadata": {},
   "outputs": [],
   "source": [
    "a = -2\n",
    "b = 3"
   ]
  },
  {
   "cell_type": "code",
   "execution_count": 11,
   "id": "eb353f74",
   "metadata": {},
   "outputs": [
    {
     "data": {
      "image/png": "[encoded data removed]",
      "text/latex": [
       "$\\displaystyle -5$"
      ],
      "text/plain": [
       "-5"
      ]
     },
     "execution_count": 11,
     "metadata": {},
     "output_type": "execute_result"
    }
   ],
   "source": [
    "a*b**2 - b*(a-b) + a"
   ]
  }
 ],
 "metadata": {
  "kernelspec": {
   "display_name": "Python 3",
   "language": "python",
   "name": "python3"
  },
  "language_info": {
   "codemirror_mode": {
    "name": "ipython",
    "version": 3
   },
   "file_extension": ".py",
   "mimetype": "text/x-python",
   "name": "python",
   "nbconvert_exporter": "python",
   "pygments_lexer": "ipython3",
   "version": "3.8.8"
  }
 },
 "nbformat": 4,
 "nbformat_minor": 5
}
