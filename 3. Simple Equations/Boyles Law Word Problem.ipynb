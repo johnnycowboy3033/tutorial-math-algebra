{
 "cells": [
  {
   "cell_type": "code",
   "execution_count": 1,
   "metadata": {},
   "outputs": [],
   "source": [
    "import sympy as sp\n",
    "sp.init_printing()\n",
    "from sympy import *"
   ]
  },
  {
   "cell_type": "markdown",
   "metadata": {},
   "source": [
    "# Problem"
   ]
  },
  {
   "cell_type": "markdown",
   "metadata": {},
   "source": [
    "Uses Boyle's Law P<sub>1</sub> V<sub>1</sub> = P<sub>2</sub> P<sub>2</sub> to solve the follow problem. \n",
    "\n",
    "You have a cardboard container that has pressure is 10 psi and volumes is 5 liters. Mike sits on the cardboard container and volume changes to 2 liters. Find the pressure after Mike sits on the cardboard container. "
   ]
  },
  {
   "cell_type": "markdown",
   "metadata": {},
   "source": [
    "# Solution"
   ]
  },
  {
   "cell_type": "code",
   "execution_count": 2,
   "metadata": {},
   "outputs": [
    {
     "data": {
      "image/png": "[encoded data removed]",
      "text/latex": [
       "$\\displaystyle \\left[ 25\\right]$"
      ],
      "text/plain": [
       "[25]"
      ]
     },
     "execution_count": 2,
     "metadata": {},
     "output_type": "execute_result"
    }
   ],
   "source": [
    "p1,v1,p2,v2 = sp.symbols('p1,v1,p2,v2')\n",
    "\n",
    "# Before mike sits on the card container\n",
    "p1 = 10\n",
    "v1 = 5\n",
    "\n",
    "# After mike sits on the card container\n",
    "v2 = 2\n",
    "\n",
    "# Boyle's Law\n",
    "eq1 = sp.Eq(p1*v1,p2*v2)\n",
    "\n",
    "sp.solve(eq1,p2)"
   ]
  },
  {
   "cell_type": "code",
   "execution_count": null,
   "metadata": {},
   "outputs": [],
   "source": []
  }
 ],
 "metadata": {
  "anaconda-cloud": {},
  "kernelspec": {
   "display_name": "Python 3 (ipykernel)",
   "language": "python",
   "name": "python3"
  },
  "language_info": {
   "codemirror_mode": {
    "name": "ipython",
    "version": 3
   },
   "file_extension": ".py",
   "mimetype": "text/x-python",
   "name": "python",
   "nbconvert_exporter": "python",
   "pygments_lexer": "ipython3",
   "version": "3.11.5"
  }
 },
 "nbformat": 4,
 "nbformat_minor": 2
}
