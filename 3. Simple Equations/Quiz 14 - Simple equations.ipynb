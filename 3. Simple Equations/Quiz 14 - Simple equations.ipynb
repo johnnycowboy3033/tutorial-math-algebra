{
 "cells": [
  {
   "cell_type": "code",
   "execution_count": 1,
   "id": "c8ccb957",
   "metadata": {},
   "outputs": [],
   "source": [
    "import sympy as sp\n",
    "sp.init_printing()\n",
    "from sympy import *"
   ]
  },
  {
   "cell_type": "markdown",
   "id": "e14ddc0d",
   "metadata": {},
   "source": [
    "# Question 1"
   ]
  },
  {
   "cell_type": "markdown",
   "id": "94b26064",
   "metadata": {},
   "source": [
    "Solve for the variable"
   ]
  },
  {
   "cell_type": "markdown",
   "id": "c0271278",
   "metadata": {},
   "source": [
    "$$ x +5 = 10 $$"
   ]
  },
  {
   "cell_type": "code",
   "execution_count": 2,
   "id": "ad98e137",
   "metadata": {},
   "outputs": [
    {
     "name": "stdout",
     "output_type": "stream",
     "text": [
      "[5]\n"
     ]
    }
   ],
   "source": [
    "x = symbols(\"x\")\n",
    "equation = Eq(x+5,10)\n",
    "result = solve(equation,x)\n",
    "print(result)"
   ]
  },
  {
   "cell_type": "markdown",
   "id": "1ac546f6",
   "metadata": {},
   "source": [
    "# Question 2 "
   ]
  },
  {
   "cell_type": "markdown",
   "id": "f7f522d8",
   "metadata": {},
   "source": [
    "Solve for the variable"
   ]
  },
  {
   "cell_type": "markdown",
   "id": "fcbab7a8",
   "metadata": {},
   "source": [
    "$$ 4x +2 = 10 $$"
   ]
  },
  {
   "cell_type": "code",
   "execution_count": 3,
   "id": "dbcba63a",
   "metadata": {},
   "outputs": [
    {
     "name": "stdout",
     "output_type": "stream",
     "text": [
      "[2]\n"
     ]
    }
   ],
   "source": [
    "x = symbols(\"x\")\n",
    "equation = Eq(4*x+2,10)\n",
    "result = solve(equation,x)\n",
    "print(result)"
   ]
  },
  {
   "cell_type": "markdown",
   "id": "6ace6eb1",
   "metadata": {},
   "source": [
    "# Question 3"
   ]
  },
  {
   "cell_type": "markdown",
   "id": "96fa90a5",
   "metadata": {},
   "source": [
    "Solve for the variable"
   ]
  },
  {
   "cell_type": "markdown",
   "id": "ac0e2ce5",
   "metadata": {},
   "source": [
    "$$ -3x +4 = 16 $$"
   ]
  },
  {
   "cell_type": "code",
   "execution_count": 4,
   "id": "6c3d65e1",
   "metadata": {},
   "outputs": [
    {
     "name": "stdout",
     "output_type": "stream",
     "text": [
      "[-4]\n"
     ]
    }
   ],
   "source": [
    "x = symbols(\"x\")\n",
    "equation = Eq(-3*x+4,16)\n",
    "result = solve(equation,x)\n",
    "print(result)"
   ]
  },
  {
   "cell_type": "code",
   "execution_count": null,
   "id": "97129787",
   "metadata": {},
   "outputs": [],
   "source": []
  }
 ],
 "metadata": {
  "kernelspec": {
   "display_name": "Python 3",
   "language": "python",
   "name": "python3"
  },
  "language_info": {
   "codemirror_mode": {
    "name": "ipython",
    "version": 3
   },
   "file_extension": ".py",
   "mimetype": "text/x-python",
   "name": "python",
   "nbconvert_exporter": "python",
   "pygments_lexer": "ipython3",
   "version": "3.8.8"
  }
 },
 "nbformat": 4,
 "nbformat_minor": 5
}
