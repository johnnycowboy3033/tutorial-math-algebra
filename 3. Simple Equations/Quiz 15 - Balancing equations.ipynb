{
 "cells": [
  {
   "cell_type": "code",
   "execution_count": 3,
   "id": "bbdc040d",
   "metadata": {},
   "outputs": [],
   "source": [
    "import sympy as sp\n",
    "sp.init_printing()\n",
    "from sympy import *"
   ]
  },
  {
   "cell_type": "markdown",
   "id": "c79092a9",
   "metadata": {},
   "source": [
    "# Question 1 "
   ]
  },
  {
   "cell_type": "markdown",
   "id": "f357df1f",
   "metadata": {},
   "source": [
    "Solve for the variable"
   ]
  },
  {
   "cell_type": "markdown",
   "id": "e9a3eff0",
   "metadata": {},
   "source": [
    "$$ 3x +2 = x - 10 $$"
   ]
  },
  {
   "cell_type": "code",
   "execution_count": 4,
   "id": "e7b17f7f",
   "metadata": {},
   "outputs": [
    {
     "name": "stdout",
     "output_type": "stream",
     "text": [
      "[-6]\n"
     ]
    }
   ],
   "source": [
    "x = symbols(\"x\")\n",
    "equation = Eq(3*x+2,x-10)\n",
    "result = solve(equation,x)\n",
    "print(result)"
   ]
  },
  {
   "cell_type": "markdown",
   "id": "33403a26",
   "metadata": {},
   "source": [
    "# Question 2 "
   ]
  },
  {
   "cell_type": "markdown",
   "id": "37ce8d8f",
   "metadata": {},
   "source": [
    "Solve for the variable"
   ]
  },
  {
   "cell_type": "markdown",
   "id": "46cecda6",
   "metadata": {},
   "source": [
    "$$ 2x +3x +5 = x -10 $$"
   ]
  },
  {
   "cell_type": "code",
   "execution_count": 5,
   "id": "8f18383a",
   "metadata": {},
   "outputs": [
    {
     "name": "stdout",
     "output_type": "stream",
     "text": [
      "[-15/4]\n"
     ]
    }
   ],
   "source": [
    "x = symbols(\"x\")\n",
    "equation = Eq(2*x +3*x +5,x-10)\n",
    "result = solve(equation,x)\n",
    "print(result)"
   ]
  },
  {
   "cell_type": "markdown",
   "id": "6636a76d",
   "metadata": {},
   "source": [
    "# Question 3"
   ]
  },
  {
   "cell_type": "markdown",
   "id": "402c3fac",
   "metadata": {},
   "source": [
    "Solve for the variable"
   ]
  },
  {
   "cell_type": "markdown",
   "id": "47806133",
   "metadata": {},
   "source": [
    "$$ 4m -2(3m +2) +4 = 3(4-2m)+3m $$"
   ]
  },
  {
   "cell_type": "code",
   "execution_count": 10,
   "id": "0ccc7f41",
   "metadata": {},
   "outputs": [
    {
     "name": "stdout",
     "output_type": "stream",
     "text": [
      "[12]\n"
     ]
    }
   ],
   "source": [
    "m = symbols(\"m\")\n",
    "equation = Eq(4*m -(2*(3*m +2)) +4,(3*(4-2*m))+3*m)\n",
    "result = solve(equation,m)\n",
    "print(result)"
   ]
  },
  {
   "cell_type": "code",
   "execution_count": null,
   "id": "a56f9bb9",
   "metadata": {},
   "outputs": [],
   "source": []
  }
 ],
 "metadata": {
  "kernelspec": {
   "display_name": "Python 3",
   "language": "python",
   "name": "python3"
  },
  "language_info": {
   "codemirror_mode": {
    "name": "ipython",
    "version": 3
   },
   "file_extension": ".py",
   "mimetype": "text/x-python",
   "name": "python",
   "nbconvert_exporter": "python",
   "pygments_lexer": "ipython3",
   "version": "3.8.8"
  }
 },
 "nbformat": 4,
 "nbformat_minor": 5
}
