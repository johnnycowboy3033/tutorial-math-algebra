{
 "cells": [
  {
   "cell_type": "code",
   "execution_count": 5,
   "id": "c4903b23",
   "metadata": {},
   "outputs": [],
   "source": [
    "import sympy as sp\n",
    "sp.init_printing()\n",
    "from sympy import *"
   ]
  },
  {
   "cell_type": "markdown",
   "id": "acc16988",
   "metadata": {},
   "source": [
    "From our examination of terms in, we know that like terms are terms in which the variable parts are identical. Like terms is an appropriate name since terms with identical variable parts and different numerical coefficients represent different amounts of the same quantity. When we are dealing with quantities of the same type, we may combine them using addition and subtraction."
   ]
  },
  {
   "cell_type": "markdown",
   "id": "68c72f8a",
   "metadata": {},
   "source": [
    "An algebraic expression may be simplified by combining like terms.\n",
    "\n",
    "This concept is illustrated in the following examples.\n",
    "\n",
    "* 8 records + 5 records = 13 records.           \n",
    "* Eight and 5 of the same type give 13 of that type. We have combined quantities of the same type.   \n",
    "* 8 records + 5 records + 3 tapes = 13 records + 3 tapes.        \n",
    "* Eight and 5 of the same type give 13 of that type. Thus, we have 13 of one type and 3 of another type. We have combined only quantities of the same type.       \n",
    "* Suppose we let the letter  𝑥 represent \"record.\" Then,  8𝑥+5𝑥=13𝑥 The terms  8𝑥 and  5𝑥 are like terms. So, 8 and 5 of the same type give 13 of that type. We have combined like terms.      \n",
    "* Suppose we let the letter  𝑥 represent \"record\" and  𝑦 represent \"tape.\" Then, 8𝑥+5𝑥+3𝑦=13𝑥+5𝑦    \n",
    " \n",
    "We have combined only the like terms.   "
   ]
  },
  {
   "cell_type": "markdown",
   "id": "859bb3f4",
   "metadata": {},
   "source": [
    "### Example   5𝑥 +2𝑦 −9𝑦 = 5𝑥 −7𝑦"
   ]
  },
  {
   "cell_type": "code",
   "execution_count": 9,
   "id": "fcb2f17a",
   "metadata": {},
   "outputs": [],
   "source": [
    "y,x = symbols(\"y,x\")"
   ]
  },
  {
   "cell_type": "code",
   "execution_count": 14,
   "id": "3b6a14c4",
   "metadata": {},
   "outputs": [
    {
     "data": {
      "image/png": "[encoded data removed]",
      "text/latex": [
       "$\\displaystyle 5 x - 7 y$"
      ],
      "text/plain": [
       "5⋅x - 7⋅y"
      ]
     },
     "execution_count": 14,
     "metadata": {},
     "output_type": "execute_result"
    }
   ],
   "source": [
    "expr = 5*x + 2*y - 9*y \n",
    "expr"
   ]
  },
  {
   "cell_type": "markdown",
   "id": "d33797f3",
   "metadata": {},
   "source": [
    "### Example −3𝑎 +2𝑏 −5𝑎 +𝑎 +6𝑏 = -7a +8b"
   ]
  },
  {
   "cell_type": "code",
   "execution_count": 19,
   "id": "e481b39d",
   "metadata": {},
   "outputs": [],
   "source": [
    "a,b = symbols(\"a,b\")"
   ]
  },
  {
   "cell_type": "code",
   "execution_count": 22,
   "id": "af5b779a",
   "metadata": {},
   "outputs": [
    {
     "data": {
      "image/png": "[encoded data removed]",
      "text/latex": [
       "$\\displaystyle - 7 a + 8 b$"
      ],
      "text/plain": [
       "-7⋅a + 8⋅b"
      ]
     },
     "execution_count": 22,
     "metadata": {},
     "output_type": "execute_result"
    }
   ],
   "source": [
    "expr = -3*a + 2*b - 5*a + a + 6*b\n",
    "expr"
   ]
  },
  {
   "cell_type": "code",
   "execution_count": null,
   "id": "b6061afb",
   "metadata": {},
   "outputs": [],
   "source": []
  }
 ],
 "metadata": {
  "kernelspec": {
   "display_name": "Python 3 (ipykernel)",
   "language": "python",
   "name": "python3"
  },
  "language_info": {
   "codemirror_mode": {
    "name": "ipython",
    "version": 3
   },
   "file_extension": ".py",
   "mimetype": "text/x-python",
   "name": "python",
   "nbconvert_exporter": "python",
   "pygments_lexer": "ipython3",
   "version": "3.11.5"
  }
 },
 "nbformat": 4,
 "nbformat_minor": 5
}
