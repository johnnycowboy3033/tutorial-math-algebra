{
 "cells": [
  {
   "cell_type": "code",
   "execution_count": 1,
   "id": "a53d5884",
   "metadata": {},
   "outputs": [],
   "source": [
    "import sympy as sp\n",
    "sp.init_printing()\n",
    "from sympy import *"
   ]
  },
  {
   "cell_type": "markdown",
   "id": "696cdb88",
   "metadata": {},
   "source": [
    "# Question 1 "
   ]
  },
  {
   "cell_type": "markdown",
   "id": "faf6223b",
   "metadata": {},
   "source": [
    "Use the Distribution Property to expand the expression"
   ]
  },
  {
   "cell_type": "markdown",
   "id": "c5a3a781",
   "metadata": {},
   "source": [
    "$${{2x} \\over yz} ({{5x} \\over 3y} +{{x^2} \\over z}) $$"
   ]
  },
  {
   "cell_type": "code",
   "execution_count": 9,
   "id": "71730171",
   "metadata": {},
   "outputs": [
    {
     "data": {
      "image/png": "[encoded data removed]",
      "text/latex": [
       "$\\displaystyle \\frac{2 x \\left(\\frac{x^{2}}{z} + \\frac{5 x}{3 y}\\right)}{y z}$"
      ],
      "text/plain": [
       "    ⎛ 2      ⎞\n",
       "    ⎜x    5⋅x⎟\n",
       "2⋅x⋅⎜── + ───⎟\n",
       "    ⎝z    3⋅y⎠\n",
       "──────────────\n",
       "     y⋅z      "
      ]
     },
     "execution_count": 9,
     "metadata": {},
     "output_type": "execute_result"
    }
   ],
   "source": [
    "x,y,z = symbols('x,y,z') \n",
    "expr =((2*x)/(y*z))*((5*x)/(3*y)+(x**2/z))\n",
    "expr"
   ]
  },
  {
   "cell_type": "code",
   "execution_count": 10,
   "id": "f52ff5e0",
   "metadata": {},
   "outputs": [
    {
     "data": {
      "image/png": "[encoded data removed]",
      "text/latex": [
       "$\\displaystyle \\frac{2 x^{3}}{y z^{2}} + \\frac{10 x^{2}}{3 y^{2} z}$"
      ],
      "text/plain": [
       "   3       2 \n",
       "2⋅x    10⋅x  \n",
       "──── + ──────\n",
       "   2      2  \n",
       "y⋅z    3⋅y ⋅z"
      ]
     },
     "execution_count": 10,
     "metadata": {},
     "output_type": "execute_result"
    }
   ],
   "source": [
    "poly=expand(expr) \n",
    "poly"
   ]
  },
  {
   "cell_type": "markdown",
   "id": "d0e720a2",
   "metadata": {},
   "source": [
    "# Question 2"
   ]
  },
  {
   "cell_type": "markdown",
   "id": "6c816623",
   "metadata": {},
   "source": [
    "Use the Distribution Property to expand the expression   "
   ]
  },
  {
   "cell_type": "markdown",
   "id": "23f9d2e7",
   "metadata": {},
   "source": [
    "$$  (abx - {{b^2x^2} \\over a^3}) {{bx^2} \\over a} $$"
   ]
  },
  {
   "cell_type": "code",
   "execution_count": 21,
   "id": "6f50e5e9",
   "metadata": {},
   "outputs": [
    {
     "data": {
      "image/png": "[encoded data removed]",
      "text/latex": [
       "$\\displaystyle \\frac{b x^{2} \\left(a b x - \\frac{b^{2} x^{2}}{a^{3}}\\right)}{a}$"
      ],
      "text/plain": [
       "     ⎛         2  2⎞\n",
       "   2 ⎜        b ⋅x ⎟\n",
       "b⋅x ⋅⎜a⋅b⋅x - ─────⎟\n",
       "     ⎜           3 ⎟\n",
       "     ⎝          a  ⎠\n",
       "────────────────────\n",
       "         a          "
      ]
     },
     "execution_count": 21,
     "metadata": {},
     "output_type": "execute_result"
    }
   ],
   "source": [
    "a,b,x = symbols('a,b,x')  \n",
    "expr = ( (a*b*x) - ( (b**2 * x**2) / (a**3) ) )    *       ( (b*x**2 ) / ( a ) )\n",
    "expr"
   ]
  },
  {
   "cell_type": "code",
   "execution_count": 22,
   "id": "dde74b8b",
   "metadata": {},
   "outputs": [
    {
     "data": {
      "image/png": "[encoded data removed]",
      "text/latex": [
       "$\\displaystyle b^{2} x^{3} - \\frac{b^{3} x^{4}}{a^{4}}$"
      ],
      "text/plain": [
       "         3  4\n",
       " 2  3   b ⋅x \n",
       "b ⋅x  - ─────\n",
       "           4 \n",
       "          a  "
      ]
     },
     "execution_count": 22,
     "metadata": {},
     "output_type": "execute_result"
    }
   ],
   "source": [
    "poly=expand(expr) \n",
    "poly"
   ]
  },
  {
   "cell_type": "markdown",
   "id": "44da540f",
   "metadata": {},
   "source": [
    "# Question 3"
   ]
  },
  {
   "cell_type": "markdown",
   "id": "b6454388",
   "metadata": {},
   "source": [
    "Use the Distribution Property to expand the expression   "
   ]
  },
  {
   "cell_type": "markdown",
   "id": "71f93e3f",
   "metadata": {},
   "source": [
    "$$ {{pb} \\over t^2} ( {{p2s} \\over t} - {{pj} \\over 3t^2} +r )$$"
   ]
  },
  {
   "cell_type": "code",
   "execution_count": 24,
   "id": "fa508dde",
   "metadata": {},
   "outputs": [
    {
     "data": {
      "image/png": "[encoded data removed]",
      "text/latex": [
       "$\\displaystyle \\frac{b p \\left(- \\frac{j p}{3 t^{2}} + r + \\frac{2 s}{t}\\right)}{t^{2}}$"
      ],
      "text/plain": [
       "    ⎛  j⋅p        2⋅s⎞\n",
       "b⋅p⋅⎜- ──── + r + ───⎟\n",
       "    ⎜     2        t ⎟\n",
       "    ⎝  3⋅t           ⎠\n",
       "──────────────────────\n",
       "           2          \n",
       "          t           "
      ]
     },
     "execution_count": 24,
     "metadata": {},
     "output_type": "execute_result"
    }
   ],
   "source": [
    "p,b,t,s,j,r = symbols('p,b,t,s,j,r')  \n",
    "expr = ((p*b)/(t**2)) * ( ( (2*s)/(t) ) - ( (p*j)/(3*t**2) ) + (r))\n",
    "expr"
   ]
  },
  {
   "cell_type": "code",
   "execution_count": 25,
   "id": "ffc4e842",
   "metadata": {},
   "outputs": [
    {
     "data": {
      "image/png": "[encoded data removed]",
      "text/latex": [
       "$\\displaystyle - \\frac{b j p^{2}}{3 t^{4}} + \\frac{b p r}{t^{2}} + \\frac{2 b p s}{t^{3}}$"
      ],
      "text/plain": [
       "       2                  \n",
       "  b⋅j⋅p    b⋅p⋅r   2⋅b⋅p⋅s\n",
       "- ────── + ───── + ───────\n",
       "      4       2        3  \n",
       "   3⋅t       t        t   "
      ]
     },
     "execution_count": 25,
     "metadata": {},
     "output_type": "execute_result"
    }
   ],
   "source": [
    "poly=expand(expr) \n",
    "poly"
   ]
  }
 ],
 "metadata": {
  "kernelspec": {
   "display_name": "Python 3 (ipykernel)",
   "language": "python",
   "name": "python3"
  },
  "language_info": {
   "codemirror_mode": {
    "name": "ipython",
    "version": 3
   },
   "file_extension": ".py",
   "mimetype": "text/x-python",
   "name": "python",
   "nbconvert_exporter": "python",
   "pygments_lexer": "ipython3",
   "version": "3.11.5"
  }
 },
 "nbformat": 4,
 "nbformat_minor": 5
}
