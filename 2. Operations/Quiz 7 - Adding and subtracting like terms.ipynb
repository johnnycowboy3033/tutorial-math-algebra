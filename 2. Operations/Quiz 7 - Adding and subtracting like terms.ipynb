{
 "cells": [
  {
   "cell_type": "code",
   "execution_count": 1,
   "id": "ef11cf35",
   "metadata": {},
   "outputs": [],
   "source": [
    "import sympy as sp\n",
    "sp.init_printing()\n",
    "from sympy import *"
   ]
  },
  {
   "cell_type": "markdown",
   "id": "77e80b6b",
   "metadata": {},
   "source": [
    "# Question 1"
   ]
  },
  {
   "cell_type": "markdown",
   "id": "7090a88e",
   "metadata": {},
   "source": [
    "Simplify the expression    \n",
    "4x + 2x + 8x -4x"
   ]
  },
  {
   "cell_type": "code",
   "execution_count": 2,
   "id": "42a9e46c",
   "metadata": {},
   "outputs": [
    {
     "data": {
      "image/png": "[encoded data removed]",
      "text/latex": [
       "$\\displaystyle 10 x$"
      ],
      "text/plain": [
       "10⋅x"
      ]
     },
     "execution_count": 2,
     "metadata": {},
     "output_type": "execute_result"
    }
   ],
   "source": [
    "x = symbols('x')\n",
    "expr = 4*x +2*x +8*x -4*x\n",
    "expr"
   ]
  },
  {
   "cell_type": "markdown",
   "id": "d1cf336d",
   "metadata": {},
   "source": [
    "# Question 3"
   ]
  },
  {
   "cell_type": "markdown",
   "id": "6a03cf01",
   "metadata": {},
   "source": [
    "Simplify the expression   \n",
    "2x + 7x + 4x<sup>2</sup> +6x<sup>2</sup> + 10x"
   ]
  },
  {
   "cell_type": "code",
   "execution_count": 3,
   "id": "c7c01575",
   "metadata": {},
   "outputs": [
    {
     "data": {
      "image/png": "[encoded data removed]",
      "text/latex": [
       "$\\displaystyle 10 x^{2} + 19 x$"
      ],
      "text/plain": [
       "    2       \n",
       "10⋅x  + 19⋅x"
      ]
     },
     "execution_count": 3,
     "metadata": {},
     "output_type": "execute_result"
    }
   ],
   "source": [
    "x = symbols('x')\n",
    "expr = 2*x + 7*x + 4*x**2+6*x**2+10*x\n",
    "expr"
   ]
  }
 ],
 "metadata": {
  "kernelspec": {
   "display_name": "Python 3 (ipykernel)",
   "language": "python",
   "name": "python3"
  },
  "language_info": {
   "codemirror_mode": {
    "name": "ipython",
    "version": 3
   },
   "file_extension": ".py",
   "mimetype": "text/x-python",
   "name": "python",
   "nbconvert_exporter": "python",
   "pygments_lexer": "ipython3",
   "version": "3.11.5"
  }
 },
 "nbformat": 4,
 "nbformat_minor": 5
}
