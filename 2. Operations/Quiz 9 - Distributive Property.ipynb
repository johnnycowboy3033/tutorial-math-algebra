{
 "cells": [
  {
   "cell_type": "code",
   "execution_count": 2,
   "id": "27df7bc2",
   "metadata": {},
   "outputs": [],
   "source": [
    "import sympy as sp\n",
    "sp.init_printing()\n",
    "from sympy import *"
   ]
  },
  {
   "cell_type": "markdown",
   "id": "caaff4f1",
   "metadata": {},
   "source": [
    "# Question 2"
   ]
  },
  {
   "cell_type": "markdown",
   "id": "16662650",
   "metadata": {},
   "source": [
    "Use the Distributive Property to expand the expresion      "
   ]
  },
  {
   "cell_type": "markdown",
   "id": "d25a16bf",
   "metadata": {},
   "source": [
    "$$  {{1} \\over 2} (4x +4) $$"
   ]
  },
  {
   "cell_type": "code",
   "execution_count": 4,
   "id": "103c9755",
   "metadata": {},
   "outputs": [
    {
     "data": {
      "image/png": "[encoded data removed]",
      "text/latex": [
       "$\\displaystyle 2.0 x + 2.0$"
      ],
      "text/plain": [
       "2.0⋅x + 2.0"
      ]
     },
     "execution_count": 4,
     "metadata": {},
     "output_type": "execute_result"
    }
   ],
   "source": [
    "x = symbols('x') \n",
    "expr = (1/2)*(4*x + 4)\n",
    "expr"
   ]
  },
  {
   "cell_type": "markdown",
   "id": "67cb40a3",
   "metadata": {},
   "source": [
    "# Question 3"
   ]
  },
  {
   "cell_type": "markdown",
   "id": "fe21f781",
   "metadata": {},
   "source": [
    "Use the Distributive Property to expand the expresion      "
   ]
  },
  {
   "cell_type": "markdown",
   "id": "97ba99d6",
   "metadata": {},
   "source": [
    "$$ 2x(3 +x^2) $$"
   ]
  },
  {
   "cell_type": "code",
   "execution_count": 7,
   "id": "8d1ccb79",
   "metadata": {},
   "outputs": [
    {
     "data": {
      "image/png": "[encoded data removed]",
      "text/latex": [
       "$\\displaystyle 2 x^{3} + 6 x$"
      ],
      "text/plain": [
       "   3      \n",
       "2⋅x  + 6⋅x"
      ]
     },
     "execution_count": 7,
     "metadata": {},
     "output_type": "execute_result"
    }
   ],
   "source": [
    "x = symbols('x') \n",
    "expr = (2*x)*(3 + x**2)\n",
    "poly=expand(expr) \n",
    "poly"
   ]
  }
 ],
 "metadata": {
  "kernelspec": {
   "display_name": "Python 3 (ipykernel)",
   "language": "python",
   "name": "python3"
  },
  "language_info": {
   "codemirror_mode": {
    "name": "ipython",
    "version": 3
   },
   "file_extension": ".py",
   "mimetype": "text/x-python",
   "name": "python",
   "nbconvert_exporter": "python",
   "pygments_lexer": "ipython3",
   "version": "3.11.5"
  }
 },
 "nbformat": 4,
 "nbformat_minor": 5
}
