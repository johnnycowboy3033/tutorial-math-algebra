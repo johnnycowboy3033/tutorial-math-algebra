{
 "cells": [
  {
   "cell_type": "code",
   "execution_count": 1,
   "id": "11685066",
   "metadata": {},
   "outputs": [],
   "source": [
    "import sympy as sp\n",
    "sp.init_printing()\n",
    "from sympy import *"
   ]
  },
  {
   "cell_type": "markdown",
   "id": "6034480d",
   "metadata": {},
   "source": [
    "# Question 1"
   ]
  },
  {
   "cell_type": "markdown",
   "id": "efdcaace",
   "metadata": {},
   "source": [
    "Simplify the expresion"
   ]
  },
  {
   "cell_type": "markdown",
   "id": "fb9f4722",
   "metadata": {},
   "source": [
    "$$  [  ( 5-4)3 + 2(6-4)  ] + 2  $$"
   ]
  },
  {
   "cell_type": "code",
   "execution_count": 3,
   "id": "837e4178",
   "metadata": {},
   "outputs": [
    {
     "data": {
      "image/png": "[encoded data removed]",
      "text/latex": [
       "$\\displaystyle 9$"
      ],
      "text/plain": [
       "9"
      ]
     },
     "execution_count": 3,
     "metadata": {},
     "output_type": "execute_result"
    }
   ],
   "source": [
    "(  (( 5-4)*(3)) + ((2)*(6-4))  ) + 2"
   ]
  },
  {
   "cell_type": "markdown",
   "id": "70d34c16",
   "metadata": {},
   "source": [
    "# Question 2 "
   ]
  },
  {
   "cell_type": "markdown",
   "id": "dcb6ae4f",
   "metadata": {},
   "source": [
    "Simplify the expresion"
   ]
  },
  {
   "cell_type": "markdown",
   "id": "61668685",
   "metadata": {},
   "source": [
    "$$ 2 [(5 -2) + 6] - (10 - 3) $$"
   ]
  },
  {
   "cell_type": "code",
   "execution_count": 4,
   "id": "0725f7cf",
   "metadata": {},
   "outputs": [
    {
     "data": {
      "image/png": "[encoded data removed]",
      "text/latex": [
       "$\\displaystyle 11$"
      ],
      "text/plain": [
       "11"
      ]
     },
     "execution_count": 4,
     "metadata": {},
     "output_type": "execute_result"
    }
   ],
   "source": [
    " ((2) * ((5 -2) + 6)) - (10 - 3)"
   ]
  },
  {
   "cell_type": "markdown",
   "id": "343ea807",
   "metadata": {},
   "source": [
    "# Question 3 "
   ]
  },
  {
   "cell_type": "markdown",
   "id": "622cd712",
   "metadata": {},
   "source": [
    "Use the order of operations to simplify the expression"
   ]
  },
  {
   "cell_type": "markdown",
   "id": "ee8e9679",
   "metadata": {},
   "source": [
    "$$ -5 +3 * 4 -6 + (2-4) - 3^2 $$"
   ]
  },
  {
   "cell_type": "code",
   "execution_count": 5,
   "id": "9aa96af8",
   "metadata": {},
   "outputs": [
    {
     "data": {
      "image/png": "[encoded data removed]",
      "text/latex": [
       "$\\displaystyle -10$"
      ],
      "text/plain": [
       "-10"
      ]
     },
     "execution_count": 5,
     "metadata": {},
     "output_type": "execute_result"
    }
   ],
   "source": [
    "-5 + (3*4) -6 + (2-4) - 3**2"
   ]
  },
  {
   "cell_type": "code",
   "execution_count": null,
   "id": "45f192c4",
   "metadata": {},
   "outputs": [],
   "source": []
  }
 ],
 "metadata": {
  "kernelspec": {
   "display_name": "Python 3 (ipykernel)",
   "language": "python",
   "name": "python3"
  },
  "language_info": {
   "codemirror_mode": {
    "name": "ipython",
    "version": 3
   },
   "file_extension": ".py",
   "mimetype": "text/x-python",
   "name": "python",
   "nbconvert_exporter": "python",
   "pygments_lexer": "ipython3",
   "version": "3.11.5"
  }
 },
 "nbformat": 4,
 "nbformat_minor": 5
}
