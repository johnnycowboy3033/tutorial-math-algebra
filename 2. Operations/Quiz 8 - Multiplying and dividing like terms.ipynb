{
 "cells": [
  {
   "cell_type": "code",
   "execution_count": 1,
   "id": "ece3d18b",
   "metadata": {},
   "outputs": [],
   "source": [
    "import sympy as sp\n",
    "sp.init_printing()\n",
    "from sympy import *"
   ]
  },
  {
   "cell_type": "markdown",
   "id": "97877789",
   "metadata": {},
   "source": [
    "# Question 1"
   ]
  },
  {
   "cell_type": "markdown",
   "id": "08517e7d",
   "metadata": {},
   "source": [
    "Simplify the expression    "
   ]
  },
  {
   "cell_type": "markdown",
   "id": "c53cae69",
   "metadata": {},
   "source": [
    "$${ {x(x +x +m +b)} \\over x} $$"
   ]
  },
  {
   "cell_type": "code",
   "execution_count": 3,
   "id": "1630a8ad",
   "metadata": {},
   "outputs": [
    {
     "data": {
      "image/png": "[encoded data removed]",
      "text/latex": [
       "$\\displaystyle b + m + 2 x$"
      ],
      "text/plain": [
       "b + m + 2⋅x"
      ]
     },
     "execution_count": 3,
     "metadata": {},
     "output_type": "execute_result"
    }
   ],
   "source": [
    "x,m,b = symbols('x,m,b')\n",
    "expr = x*(x + x + m + b)/x\n",
    "expr"
   ]
  },
  {
   "cell_type": "markdown",
   "id": "25587996",
   "metadata": {},
   "source": [
    "# Question 2 "
   ]
  },
  {
   "cell_type": "markdown",
   "id": "8266b4fa",
   "metadata": {},
   "source": [
    "Simplify the expression  "
   ]
  },
  {
   "cell_type": "markdown",
   "id": "3384707f",
   "metadata": {},
   "source": [
    "$${ {5x^2 * 3y * 2x} \\over 2xy} $$"
   ]
  },
  {
   "cell_type": "code",
   "execution_count": 6,
   "id": "a78a3ae9",
   "metadata": {},
   "outputs": [
    {
     "data": {
      "image/png": "[encoded data removed]",
      "text/latex": [
       "$\\displaystyle 15 x^{2}$"
      ],
      "text/plain": [
       "    2\n",
       "15⋅x "
      ]
     },
     "execution_count": 6,
     "metadata": {},
     "output_type": "execute_result"
    }
   ],
   "source": [
    "x,y = symbols('x,y')\n",
    "expr = (5*x**2 *3*y * 2*x)/(2*x*y)\n",
    "expr"
   ]
  },
  {
   "cell_type": "markdown",
   "id": "4a107636",
   "metadata": {},
   "source": [
    "# Question 3 "
   ]
  },
  {
   "cell_type": "markdown",
   "id": "ad65649f",
   "metadata": {},
   "source": [
    "Simplify the expression  "
   ]
  },
  {
   "cell_type": "markdown",
   "id": "ce8f4fb4",
   "metadata": {},
   "source": [
    "$${ {t^3 * t^4 * d^5} \\over t^5*d^4} $$"
   ]
  },
  {
   "cell_type": "code",
   "execution_count": 9,
   "id": "1573110a",
   "metadata": {},
   "outputs": [
    {
     "data": {
      "image/png": "[encoded data removed]",
      "text/latex": [
       "$\\displaystyle d t^{2}$"
      ],
      "text/plain": [
       "   2\n",
       "d⋅t "
      ]
     },
     "execution_count": 9,
     "metadata": {},
     "output_type": "execute_result"
    }
   ],
   "source": [
    "t,d = symbols('t,d')\n",
    "expr =(t**3*t**4*d**5)/(t**5*d**4)\n",
    "expr"
   ]
  }
 ],
 "metadata": {
  "kernelspec": {
   "display_name": "Python 3 (ipykernel)",
   "language": "python",
   "name": "python3"
  },
  "language_info": {
   "codemirror_mode": {
    "name": "ipython",
    "version": 3
   },
   "file_extension": ".py",
   "mimetype": "text/x-python",
   "name": "python",
   "nbconvert_exporter": "python",
   "pygments_lexer": "ipython3",
   "version": "3.11.5"
  }
 },
 "nbformat": 4,
 "nbformat_minor": 5
}
