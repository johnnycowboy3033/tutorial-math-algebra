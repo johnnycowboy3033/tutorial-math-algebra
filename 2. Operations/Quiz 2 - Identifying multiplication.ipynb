{
 "cells": [
  {
   "cell_type": "markdown",
   "id": "df344474",
   "metadata": {},
   "source": [
    "# Question 2"
   ]
  },
  {
   "cell_type": "markdown",
   "id": "079a918e",
   "metadata": {},
   "source": [
    "Simplify the expression     "
   ]
  },
  {
   "cell_type": "markdown",
   "id": "443db7b4",
   "metadata": {},
   "source": [
    "$$ (3*2*2)(4) *2$$"
   ]
  },
  {
   "cell_type": "code",
   "execution_count": 2,
   "id": "f4a65361",
   "metadata": {},
   "outputs": [
    {
     "data": {
      "text/plain": [
       "96"
      ]
     },
     "execution_count": 2,
     "metadata": {},
     "output_type": "execute_result"
    }
   ],
   "source": [
    "(3*2*2)*(4)*2"
   ]
  },
  {
   "cell_type": "markdown",
   "id": "f9bfed3a",
   "metadata": {},
   "source": [
    "# Question 3"
   ]
  },
  {
   "cell_type": "markdown",
   "id": "f7542610",
   "metadata": {},
   "source": [
    "Simplify the expression       "
   ]
  },
  {
   "cell_type": "markdown",
   "id": "891c6f2c",
   "metadata": {},
   "source": [
    "$$ 2(-3)(-5)* 2*4 $$"
   ]
  },
  {
   "cell_type": "code",
   "execution_count": 3,
   "id": "9263ce10",
   "metadata": {},
   "outputs": [
    {
     "data": {
      "text/plain": [
       "240"
      ]
     },
     "execution_count": 3,
     "metadata": {},
     "output_type": "execute_result"
    }
   ],
   "source": [
    "2*(-3)*(-5)*2*4"
   ]
  }
 ],
 "metadata": {
  "kernelspec": {
   "display_name": "Python 3 (ipykernel)",
   "language": "python",
   "name": "python3"
  },
  "language_info": {
   "codemirror_mode": {
    "name": "ipython",
    "version": 3
   },
   "file_extension": ".py",
   "mimetype": "text/x-python",
   "name": "python",
   "nbconvert_exporter": "python",
   "pygments_lexer": "ipython3",
   "version": "3.11.5"
  }
 },
 "nbformat": 4,
 "nbformat_minor": 5
}
